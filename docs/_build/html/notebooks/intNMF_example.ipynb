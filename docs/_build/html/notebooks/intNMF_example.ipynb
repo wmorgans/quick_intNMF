{
 "cells": [
  {
   "cell_type": "markdown",
   "metadata": {},
   "source": [
    "# intNMF example\n",
    "\n",
    "example using a 10x dataset with cell type annotations. Firstly download the data."
   ]
  },
  {
   "cell_type": "code",
   "execution_count": 5,
   "metadata": {},
   "outputs": [
    {
     "name": "stdout",
     "output_type": "stream",
     "text": [
      "pbmc_granulocyte_sorted_10k_filtered_feature_bc_matrix.h5\n",
      "PBMC-Multiom_annotation.tsv\n"
     ]
    }
   ],
   "source": [
    "%%bash\n",
    "wget --no-check-certificate --no-verbose -P ../data/  https://costalab.ukaachen.de/open_data/MOJITOO/PBMC-Multiom_annotation.tsv\n",
    "wget --no-verbose -P ../data/ https://cf.10xgenomics.com/samples/cell-arc/1.0.0/pbmc_granulocyte_sorted_10k/pbmc_granulocyte_sorted_10k_filtered_feature_bc_matrix.h5"
   ]
  },
  {
   "cell_type": "markdown",
   "metadata": {},
   "source": [
    "import required packages for loading the data then load the data"
   ]
  },
  {
   "cell_type": "code",
   "execution_count": 8,
   "metadata": {},
   "outputs": [],
   "source": [
    "import muon as mu\n",
    "import anndata as ad\n",
    "import scanpy as sc\n",
    "import os\n",
    "import pandas as pd"
   ]
  },
  {
   "cell_type": "code",
   "execution_count": 13,
   "metadata": {},
   "outputs": [],
   "source": [
    "def load_multiome(file, labels):\n",
    "    '''Function to load multiome data from .h5, .h5ad or .h5mu file types'''\n",
    "\n",
    "    _, extension = os.path.splitext(file)\n",
    "    if extension == '.h5':\n",
    "        mu_data = mu.read_10x_h5(file)\n",
    "            \n",
    "    elif extension == '.h5ad':\n",
    "        h5ad = ad.read_h5ad(file)\n",
    "        rna = h5ad[:, h5ad.var['feature_types'] == 'GEX']\n",
    "        atac = h5ad[:, h5ad.var['feature_types'] == 'ATAC']\n",
    "        mu_data = mu.MuData({'rna': rna, 'atac': atac})\n",
    "        mu_data.update()\n",
    "        mu.pp.intersect_obs(mu_data)\n",
    "    elif extension == '.h5mu':\n",
    "        mu_data = mu.read(file)\n",
    "    \n",
    "    # If there are labels for the dataset load the labels and remove cells without a label.\n",
    "    if labels is None:\n",
    "        print('no labels')\n",
    "    else:\n",
    "        meta = pd.read_csv(labels, sep=\"\\t\", header=0, index_col=0)\n",
    "        mu.pp.filter_obs(mu_data, meta.index.values)\n",
    "        mu_data.obs = meta\n",
    "        \n",
    "    return mu_data\n"
   ]
  },
  {
   "cell_type": "code",
   "execution_count": 14,
   "metadata": {},
   "outputs": [
    {
     "name": "stderr",
     "output_type": "stream",
     "text": [
      "Variable names are not unique. To make them unique, call `.var_names_make_unique`.\n"
     ]
    },
    {
     "name": "stdout",
     "output_type": "stream",
     "text": [
      "Added `interval` annotation for features from ../data/pbmc_granulocyte_sorted_10k_filtered_feature_bc_matrix.h5\n"
     ]
    },
    {
     "name": "stderr",
     "output_type": "stream",
     "text": [
      "Variable names are not unique. To make them unique, call `.var_names_make_unique`.\n"
     ]
    }
   ],
   "source": [
    "file = '../data/pbmc_granulocyte_sorted_10k_filtered_feature_bc_matrix.h5'\n",
    "labels = '../data/PBMC-Multiom_annotation.tsv'\n",
    "\n",
    "mu_data = load_multiome(file, labels)"
   ]
  },
  {
   "cell_type": "code",
   "execution_count": 15,
   "metadata": {},
   "outputs": [
    {
     "data": {
      "text/html": [
       "<pre>MuData object with n_obs × n_vars = 11787 × 144978\n",
       "  obs:\t&#x27;clusters&#x27;, &#x27;annotation&#x27;\n",
       "  var:\t&#x27;feature_types&#x27;, &#x27;gene_ids&#x27;, &#x27;genome&#x27;, &#x27;interval&#x27;\n",
       "  2 modalities\n",
       "    rna:\t11787 x 36601\n",
       "      var:\t&#x27;gene_ids&#x27;, &#x27;feature_types&#x27;, &#x27;genome&#x27;, &#x27;interval&#x27;\n",
       "    atac:\t11787 x 108377\n",
       "      var:\t&#x27;gene_ids&#x27;, &#x27;feature_types&#x27;, &#x27;genome&#x27;, &#x27;interval&#x27;</pre>"
      ],
      "text/plain": [
       "MuData object with n_obs × n_vars = 11787 × 144978\n",
       "  obs:\t'clusters', 'annotation'\n",
       "  var:\t'feature_types', 'gene_ids', 'genome', 'interval'\n",
       "  2 modalities\n",
       "    rna:\t11787 x 36601\n",
       "      var:\t'gene_ids', 'feature_types', 'genome', 'interval'\n",
       "    atac:\t11787 x 108377\n",
       "      var:\t'gene_ids', 'feature_types', 'genome', 'interval'"
      ]
     },
     "execution_count": 15,
     "metadata": {},
     "output_type": "execute_result"
    }
   ],
   "source": [
    "mu_data"
   ]
  },
  {
   "cell_type": "markdown",
   "metadata": {},
   "source": [
    "import intNMF package and then run"
   ]
  },
  {
   "cell_type": "code",
   "execution_count": 17,
   "metadata": {},
   "outputs": [],
   "source": [
    "import sys\n",
    "\n",
    "path_to_nmf = '../../scnmf/'\n",
    "module_path = os.path.abspath(os.path.join(path_to_nmf))\n",
    "\n",
    "if module_path not in sys.path:\n",
    "    sys.path.append(module_path)\n",
    "from nmf_models_mod_updates import intNMF, log_tf_idf\n"
   ]
  },
  {
   "cell_type": "code",
   "execution_count": 21,
   "metadata": {},
   "outputs": [],
   "source": [
    "rna_tf_idf = log_tf_idf(mu_data['rna'].X)\n",
    "atac_tf_idf = log_tf_idf(mu_data['atac'].X)"
   ]
  },
  {
   "cell_type": "code",
   "execution_count": 22,
   "metadata": {},
   "outputs": [],
   "source": [
    "nmf_model = intNMF(10)  # NMF model with k=10\n",
    "nmf_model.fit(rna_tf_idf, atac_tf_idf)\n"
   ]
  },
  {
   "cell_type": "code",
   "execution_count": 27,
   "metadata": {},
   "outputs": [],
   "source": [
    "mu_data.obsm['intNMF'] = nmf_model.theta"
   ]
  },
  {
   "cell_type": "code",
   "execution_count": 30,
   "metadata": {},
   "outputs": [],
   "source": [
    "mu_data['rna'].varm['intNMF'] = nmf_model.phi_rna.T\n",
    "mu_data['atac'].varm['intNMF'] = nmf_model.phi_atac.T"
   ]
  },
  {
   "cell_type": "code",
   "execution_count": null,
   "metadata": {},
   "outputs": [],
   "source": []
  }
 ],
 "metadata": {
  "kernelspec": {
   "display_name": "single-cell_python",
   "language": "python",
   "name": "single-cell_python"
  },
  "language_info": {
   "codemirror_mode": {
    "name": "ipython",
    "version": 3
   },
   "file_extension": ".py",
   "mimetype": "text/x-python",
   "name": "python",
   "nbconvert_exporter": "python",
   "pygments_lexer": "ipython3",
   "version": "3.8.12"
  }
 },
 "nbformat": 4,
 "nbformat_minor": 2
}
